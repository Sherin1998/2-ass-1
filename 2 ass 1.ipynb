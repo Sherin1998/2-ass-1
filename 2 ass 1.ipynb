{
 "cells": [
  {
   "cell_type": "markdown",
   "metadata": {},
   "source": [
    "#1\n",
    "Python programming is based on creation of  objects that have their own properties and behavior that can be acted upon, manipulated, and bundled.It makes code reusable and easier to work .OOPs features like classes and objects,abstraction,polymorphism,inheritance are implemented in python.Classes consist of attributes and methods which are accessed by objects.This makes multiple objects to have copy of class data without changing other instances"
   ]
  },
  {
   "cell_type": "markdown",
   "metadata": {},
   "source": [
    "#2\n",
    "When the object is created for a particular class, it searches the related class and find the place where the attribute first appears. If it fails,the search advances to the superclass of the class and searches.While searching,the  lower definitions in the tree override higher ones.So search advances from lower end of tree to higher end\n",
    "\n",
    "    "
   ]
  },
  {
   "cell_type": "markdown",
   "metadata": {},
   "source": [
    "#3\n",
    "Instance objects are created to access the functions and variable in a class.Any number of instances can be created using objects._init_ is automatically called and values are assigned when instances are defined.It is defined by classname().\n",
    "\n",
    "Class objects are used when no explicit object is created.It is used for accessin static variables in a class.There can only be 1 class object for a class.It is defined by class name without paranthesis."
   ]
  },
  {
   "cell_type": "markdown",
   "metadata": {},
   "source": [
    "#4\n",
    "The first method of a class is a constructor(__init__).It is a keyword which assigns values to class objects.It is invoked automatically when the object is cretaed.Each time an object of class is created,the constructor is called the same number of times.The constructer contains self parameter which always refer to current instance of class.The values provided to class objects are initialized inside class by the constructer.\n",
    "\n"
   ]
  },
  {
   "cell_type": "markdown",
   "metadata": {},
   "source": [
    "#5\n",
    "__init__ is a reserved word in python which is a constructor.It assigns value to the object instances whenever object is created.init is not explicitely called and is invoked when a object is created."
   ]
  },
  {
   "cell_type": "markdown",
   "metadata": {},
   "source": [
    "#6\n",
    "After defining the class, an object of class is created which encapsulates the class defenition.By creating objects,we create class instance.When each object is created,class instances are created everytime.To create instance \n",
    "=>obj=class_name(parameters)\n",
    "\n"
   ]
  },
  {
   "cell_type": "markdown",
   "metadata": {},
   "source": [
    "#7\n",
    "classes are created by using keyword (class classname).Classes bind methods and atributes together which are accessed by class objects.Inside the class constructor(__init__) initializes value to the atributes.Custom methods made by ser are mentioned inside class.Self parameter inside functions specifies the current instance of class.After class creation objects are used to access methods."
   ]
  },
  {
   "cell_type": "markdown",
   "metadata": {},
   "source": [
    "#8\n",
    "Those classes from which child classes inherit from are called super classes.Thus the attributes and methods of parent class can be accesed by child class objects along with its atributes and methods.Superclasses are used when we have to classify parent class with some additional features.Thus inheritance is used which saves time and code reusability\n",
    "\n",
    "     SYNTAX\n",
    "class Parent:\n",
    "        '''Parameters'''\n",
    "class Child(Parent):\n",
    "        '''Parameters'''    \n"
   ]
  },
  {
   "cell_type": "code",
   "execution_count": null,
   "metadata": {},
   "outputs": [],
   "source": []
  }
 ],
 "metadata": {
  "kernelspec": {
   "display_name": "Python 3",
   "language": "python",
   "name": "python3"
  },
  "language_info": {
   "codemirror_mode": {
    "name": "ipython",
    "version": 3
   },
   "file_extension": ".py",
   "mimetype": "text/x-python",
   "name": "python",
   "nbconvert_exporter": "python",
   "pygments_lexer": "ipython3",
   "version": "3.8.3"
  }
 },
 "nbformat": 4,
 "nbformat_minor": 4
}
